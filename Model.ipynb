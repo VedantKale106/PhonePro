{
 "cells": [
  {
   "cell_type": "code",
   "execution_count": 23,
   "id": "3117bd66-0d6c-4769-accf-97d9226586c8",
   "metadata": {},
   "outputs": [
    {
     "name": "stdout",
     "output_type": "stream",
     "text": [
      "Suggested Model: Poco X3 Pro\n"
     ]
    }
   ],
   "source": [
    "import pandas as pd\n",
    "from sklearn.preprocessing import LabelEncoder, StandardScaler\n",
    "from sklearn.metrics.pairwise import cosine_similarity\n",
    "\n",
    "# Load dataset\n",
    "df = pd.read_csv('CleanedDataset.csv')\n",
    "\n",
    "features = ['price', 'brand_name', '5G_or_not', 'processor_brand', 'battery_capacity', \n",
    "             'ram_capacity', 'internal_memory', 'refresh_rate', 'os', 'primary_camera_rear', \n",
    "             'fast_charging']\n",
    "target = 'model'\n",
    "\n",
    "df = df[features + [target]]\n",
    "\n",
    "df = df.dropna()  \n",
    "\n",
    "# Encode categorical features\n",
    "label_encoders = {}\n",
    "for column in ['brand_name', 'processor_brand', 'os', '5G_or_not']:\n",
    "    le = LabelEncoder()\n",
    "    df[column] = le.fit_transform(df[column])\n",
    "    label_encoders[column] = le\n",
    "\n",
    "# Scale numerical features\n",
    "scaler = StandardScaler()\n",
    "df[['price', 'battery_capacity', 'ram_capacity', 'internal_memory', 'refresh_rate', 'primary_camera_rear', 'fast_charging']] = \\\n",
    "    scaler.fit_transform(df[['price', 'battery_capacity', 'ram_capacity', 'internal_memory', 'refresh_rate', 'primary_camera_rear', 'fast_charging']])\n",
    "\n",
    "# Example input\n",
    "input_data = {\n",
    "    'price': 14000,\n",
    "    'brand_name': 'Poco',\n",
    "    '5G_or_not': 'No',  # 'Yes' for 5G\n",
    "    'processor_brand': 'Snapdragon',\n",
    "    'battery_capacity': 4500,\n",
    "    'ram_capacity': 6,\n",
    "    'internal_memory': 128,\n",
    "    'refresh_rate': 120,\n",
    "    'os': 'Android',\n",
    "    'primary_camera_rear': 64,\n",
    "    'fast_charging': 25  # example numeric value for fast charging\n",
    "}\n",
    "\n",
    "# Preprocess the input data\n",
    "input_df = pd.DataFrame([input_data])\n",
    "for column in ['brand_name', 'processor_brand', 'os', '5G_or_not']:\n",
    "    input_df[column] = label_encoders[column].transform(input_df[column])\n",
    "\n",
    "input_df[['price', 'battery_capacity', 'ram_capacity', 'internal_memory', 'refresh_rate', 'primary_camera_rear', 'fast_charging']] = \\\n",
    "    scaler.transform(input_df[['price', 'battery_capacity', 'ram_capacity', 'internal_memory', 'refresh_rate', 'primary_camera_rear', 'fast_charging']])\n",
    "\n",
    "# Filter the dataset based on the selected brand\n",
    "filtered_df = df[df['brand_name'] == input_df['brand_name'].iloc[0]]\n",
    "\n",
    "if not filtered_df.empty:\n",
    "    # Compute similarity on the filtered dataset\n",
    "    df_features = filtered_df[features]\n",
    "    input_features = input_df[features]\n",
    "\n",
    "    # Calculate cosine similarity\n",
    "    similarity_scores = cosine_similarity(input_features, df_features)\n",
    "\n",
    "    most_similar_index = similarity_scores.argmax()\n",
    "    most_similar_phone = filtered_df.iloc[most_similar_index]\n",
    "    suggested_model = most_similar_phone[target]\n",
    "    print(f'Suggested Model: {suggested_model}')\n",
    "else:\n",
    "    print(\"No phones found for the selected brand.\")\n"
   ]
  },
  {
   "cell_type": "code",
   "execution_count": 25,
   "id": "68c34694-60ba-4f49-a7a7-ab7eef98d0a0",
   "metadata": {},
   "outputs": [],
   "source": [
    "import pickle\n",
    "\n",
    "# Save label encoders and scaler\n",
    "with open('label_encoders.pkl', 'wb') as le_file:\n",
    "    pickle.dump(label_encoders, le_file)\n",
    "\n",
    "with open('scaler.pkl', 'wb') as scaler_file:\n",
    "    pickle.dump(scaler, scaler_file)\n",
    "\n",
    "# Save the dataset\n",
    "df.to_csv('processed_dataset.csv', index=False)\n"
   ]
  },
  {
   "cell_type": "code",
   "execution_count": null,
   "id": "d4f53b50-7ecd-414e-8252-81008bc53458",
   "metadata": {},
   "outputs": [],
   "source": []
  }
 ],
 "metadata": {
  "kernelspec": {
   "display_name": "Python 3 (ipykernel)",
   "language": "python",
   "name": "python3"
  },
  "language_info": {
   "codemirror_mode": {
    "name": "ipython",
    "version": 3
   },
   "file_extension": ".py",
   "mimetype": "text/x-python",
   "name": "python",
   "nbconvert_exporter": "python",
   "pygments_lexer": "ipython3",
   "version": "3.12.4"
  }
 },
 "nbformat": 4,
 "nbformat_minor": 5
}
